{
 "cells": [
  {
   "cell_type": "code",
   "execution_count": 133,
   "metadata": {},
   "outputs": [],
   "source": [
    "# this might be needed if you don't have such library\n",
    "# in case of any issues remove capture magic, since\n",
    "# it hides output of the cell\n",
    "%%capture\n",
    "!pip3 install audiomentations"
   ]
  },
  {
   "cell_type": "code",
   "execution_count": 134,
   "metadata": {},
   "outputs": [],
   "source": [
    "from audiomentations import Compose, AddGaussianNoise, Shift, Normalize, TanhDistortion, Gain\n",
    "import matplotlib.pyplot as plt\n",
    "import os\n",
    "import scipy as sp"
   ]
  },
  {
   "cell_type": "code",
   "execution_count": 135,
   "metadata": {},
   "outputs": [],
   "source": [
    "SAMPLES_DIR = './barbie_vs_puppy/'\n",
    "TRAINING_DIR = './training/'\n",
    "VALIDATION_DIR = './validation/'\n",
    "N_AUGMENTATIONS = 10"
   ]
  },
  {
   "cell_type": "code",
   "execution_count": 136,
   "metadata": {},
   "outputs": [],
   "source": [
    "augment = Compose([\n",
    "    AddGaussianNoise(min_amplitude=0.001, max_amplitude=0.015, p=0.5),\n",
    "    TanhDistortion(p=0.5),\n",
    "    Gain(p=0.5),\n",
    "    Shift(min_fraction=-0.25, max_fraction=0.25, p=0.5),\n",
    "    Normalize(p=1.0),\n",
    "])"
   ]
  },
  {
   "cell_type": "code",
   "execution_count": 137,
   "metadata": {},
   "outputs": [],
   "source": [
    "# save audio spectrogram to the corresponding directory\n",
    "# here i use 20% of data for validation\n",
    "def save_spct(audio, sr, suffix, cnt):\n",
    "    f, t, Sxx = sp.signal.spectrogram(audio, sr)\n",
    "    fig = plt.figure()\n",
    "    plt.pcolormesh(t, f, Sxx, shading='gouraud')\n",
    "    plt.axis('off')\n",
    "    plt.ylim([0, 10000])\n",
    "    plt.xlim([0, 2])\n",
    "    if cnt % 10 >= 8:\n",
    "        plt.savefig(VALIDATION_DIR + '/' + suffix + '/' + str(cnt) + '.png')\n",
    "    else:\n",
    "        plt.savefig(TRAINING_DIR + '/' + suffix + '/' + str(cnt) + '.png')\n",
    "    plt.close(fig)"
   ]
  },
  {
   "cell_type": "code",
   "execution_count": 138,
   "metadata": {},
   "outputs": [
    {
     "name": "stderr",
     "output_type": "stream",
     "text": [
      "/Users/m8dotpie/opt/anaconda3/lib/python3.9/site-packages/audiomentations/core/transforms_interface.py:57: UserWarning: Warning: input samples dtype is np.float64. Converting to np.float32\n",
      "  warnings.warn(\n"
     ]
    }
   ],
   "source": [
    "# read sequentially audio files and\n",
    "# pass them to the augment function\n",
    "# after that save the spectrogram\n",
    "cnt = 0\n",
    "for suffix in ['barbie', 'puppy']:\n",
    "    for file in os.listdir(SAMPLES_DIR + suffix):\n",
    "        if file.endswith('.wav'):\n",
    "            sr, audio = sp.io.wavfile.read(os.path.join(SAMPLES_DIR + suffix, file))\n",
    "            if len(audio.shape) > 1 and audio.shape[1] > 1:\n",
    "                audio = audio[:, 0]\n",
    "\n",
    "            save_spct(audio, sr, suffix, cnt)\n",
    "            cnt += 1\n",
    "            for i in range(N_AUGMENTATIONS):\n",
    "                audio = augment(audio, sr)\n",
    "                save_spct(audio, sr, suffix, cnt)\n",
    "                cnt += 1"
   ]
  }
 ],
 "metadata": {
  "kernelspec": {
   "display_name": "base",
   "language": "python",
   "name": "python3"
  },
  "language_info": {
   "codemirror_mode": {
    "name": "ipython",
    "version": 3
   },
   "file_extension": ".py",
   "mimetype": "text/x-python",
   "name": "python",
   "nbconvert_exporter": "python",
   "pygments_lexer": "ipython3",
   "version": "3.9.13"
  },
  "orig_nbformat": 4,
  "vscode": {
   "interpreter": {
    "hash": "1f7231cd321bc73172e23d3fd2b7413e5063c7e51a3c02201c1a1feb0b5bad5f"
   }
  }
 },
 "nbformat": 4,
 "nbformat_minor": 2
}
